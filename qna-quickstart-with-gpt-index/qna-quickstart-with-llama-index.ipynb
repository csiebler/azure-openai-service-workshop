{
 "cells": [
  {
   "attachments": {},
   "cell_type": "markdown",
   "metadata": {},
   "source": [
    "# Azure OpenAI Service - Q&A with semantic answering using LlamaIndex 🦙 (GPT Index)\n",
    "\n",
    "Firstly, create a file called `.env` in this folder, and add the following content, obviously with your values:\n",
    "\n",
    "```\n",
    "OPENAI_API_KEY=xxxxxx\n",
    "OPENAI_API_BASE=https://xxxxxxx.openai.azure.com/\n",
    "```\n",
    "\n",
    "Then, let's install all dependencies:"
   ]
  },
  {
   "cell_type": "code",
   "execution_count": null,
   "metadata": {},
   "outputs": [],
   "source": [
    "!pip install -r requirements.txt"
   ]
  },
  {
   "cell_type": "code",
   "execution_count": 12,
   "metadata": {},
   "outputs": [
    {
     "name": "stderr",
     "output_type": "stream",
     "text": [
      "INFO:root:> [build_index_from_documents] Total LLM token usage: 0 tokens\n"
     ]
    },
    {
     "name": "stdout",
     "output_type": "stream",
     "text": [
      "> [build_index_from_documents] Total LLM token usage: 0 tokens\n",
      "> [build_index_from_documents] Total LLM token usage: 0 tokens\n",
      "> [build_index_from_documents] Total LLM token usage: 0 tokens\n",
      "> [build_index_from_documents] Total LLM token usage: 0 tokens\n"
     ]
    },
    {
     "name": "stderr",
     "output_type": "stream",
     "text": [
      "INFO:root:> [build_index_from_documents] Total embedding token usage: 4704 tokens\n"
     ]
    },
    {
     "name": "stdout",
     "output_type": "stream",
     "text": [
      "> [build_index_from_documents] Total embedding token usage: 4704 tokens\n",
      "> [build_index_from_documents] Total embedding token usage: 4704 tokens\n",
      "> [build_index_from_documents] Total embedding token usage: 4704 tokens\n",
      "> [build_index_from_documents] Total embedding token usage: 4704 tokens\n"
     ]
    }
   ],
   "source": [
    "import os\n",
    "import openai\n",
    "from dotenv import load_dotenv\n",
    "from llama_index import GPTSimpleVectorIndex, SimpleDirectoryReader, LLMPredictor\n",
    "from langchain.llms import AzureOpenAI\n",
    "\n",
    "# Load environment variables (set OPENAI_API_KEY and OPENAI_API_BASE in .env)\n",
    "load_dotenv()\n",
    "\n",
    "# Configure OpenAI API\n",
    "openai.api_type = \"azure\"\n",
    "openai.api_version = \"2022-12-01\"\n",
    "openai.api_base = os.getenv('OPENAI_API_BASE')\n",
    "openai.api_key = os.getenv(\"OPENAI_API_KEY\")\n",
    "\n",
    "llm = AzureOpenAI(deployment_name=\"text-davinci-003\")\n",
    "llm_predictor = LLMPredictor(llm=llm)\n",
    "\n",
    "documents = SimpleDirectoryReader('data').load_data()\n",
    "index = GPTSimpleVectorIndex(documents, llm_predictor=llm_predictor)"
   ]
  },
  {
   "cell_type": "code",
   "execution_count": 13,
   "metadata": {},
   "outputs": [
    {
     "name": "stderr",
     "output_type": "stream",
     "text": [
      "INFO:root:> [query] Total LLM token usage: 2475 tokens\n"
     ]
    },
    {
     "name": "stdout",
     "output_type": "stream",
     "text": [
      "> [query] Total LLM token usage: 2475 tokens\n",
      "> [query] Total LLM token usage: 2475 tokens\n",
      "> [query] Total LLM token usage: 2475 tokens\n",
      "> [query] Total LLM token usage: 2475 tokens\n"
     ]
    },
    {
     "name": "stderr",
     "output_type": "stream",
     "text": [
      "INFO:root:> [query] Total embedding token usage: 15 tokens\n"
     ]
    },
    {
     "name": "stdout",
     "output_type": "stream",
     "text": [
      "> [query] Total embedding token usage: 15 tokens\n",
      "> [query] Total embedding token usage: 15 tokens\n",
      "> [query] Total embedding token usage: 15 tokens\n",
      "> [query] Total embedding token usage: 15 tokens\n",
      "\n",
      "Azure OpenAI Service is: \n",
      "- A cloud-based service providing REST API access to OpenAI's powerful language models\n",
      "- Features include model fine-tuning, managed identity, UI experience, regional availability and content filtering\n",
      "- Models available include GPT-3 base series, Codex series and Embeddings series\n",
      "- Committed to advancing AI driven by principles that put people first with investments to guard against abuse and unintended harm\n",
      "- Limited access is currently available, with applicants required to show well-defined use cases and commit to incorporating mitigations\n",
      "- Compatible with OpenAI, with the security and enterprise promise of Azure\n",
      "- Customers must deploy a model before making API calls and generating text\n",
      "- Models use natural language instructions and examples provided during the generation call to identify the task being asked and skill required\n",
      "- Models available include Davinci, Curie, Babbage, Ada, Babbage, Cushman* and Davinci*   \n",
      "- Accessible through REST APIs, Python SDK or web-based interface in the Azure OpenAI Studio\n"
     ]
    }
   ],
   "source": [
    "response = index.query(\"What is azure openai service? give me back a bullet point list\")\n",
    "print(response)"
   ]
  },
  {
   "cell_type": "code",
   "execution_count": 14,
   "metadata": {},
   "outputs": [],
   "source": [
    "index.save_to_disk(\"index.json\")"
   ]
  }
 ],
 "metadata": {
  "kernelspec": {
   "display_name": "openai-qna-env",
   "language": "python",
   "name": "python3"
  },
  "language_info": {
   "codemirror_mode": {
    "name": "ipython",
    "version": 3
   },
   "file_extension": ".py",
   "mimetype": "text/x-python",
   "name": "python",
   "nbconvert_exporter": "python",
   "pygments_lexer": "ipython3",
   "version": "3.10.9"
  },
  "orig_nbformat": 4
 },
 "nbformat": 4,
 "nbformat_minor": 2
}
